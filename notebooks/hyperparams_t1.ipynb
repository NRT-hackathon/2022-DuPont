{
 "cells": [
  {
   "cell_type": "code",
   "execution_count": 1,
   "metadata": {},
   "outputs": [],
   "source": [
    "import numpy as np\n",
    "import pandas as pd\n",
    "import matplotlib.pyplot as plt\n",
    "import matplotlib.cm as cm\n",
    "from sklearn.metrics import r2_score\n",
    "from sklearn.metrics import mean_squared_error\n",
    "from sklearn.metrics import mean_absolute_error\n",
    "from sklearn.model_selection import KFold\n",
    "from sklearn.neighbors import KNeighborsRegressor\n",
    "from sklearn.ensemble import GradientBoostingRegressor\n",
    "from sklearn.ensemble import ExtraTreesRegressor, RandomForestRegressor\n",
    "from sklearn.tree import DecisionTreeRegressor\n",
    "from sklearn.model_selection import GridSearchCV\n",
    "from xgboost.sklearn import XGBRegressor"
   ]
  },
  {
   "cell_type": "code",
   "execution_count": 2,
   "metadata": {},
   "outputs": [],
   "source": [
    "# Load dataset\n",
    "Dataset = pd.read_csv(\"../data/UD_867_formulation_training.csv\")\n",
    "TARGETS = ['Water_Absorption_%','Hardness','Thermal_Conductivity_(mW/m.K)']"
   ]
  },
  {
   "cell_type": "code",
   "execution_count": 3,
   "metadata": {},
   "outputs": [],
   "source": [
    "# Reproducibility\n",
    "SEED = 12345\n",
    "# Select only features from dataset\n",
    "X_train = Dataset.drop(columns=['name']+TARGETS)\n",
    "# Select only targets from dataset\n",
    "Y_train = Dataset[TARGETS]\n",
    "# Standardization\n",
    "mu = X_train.mean(axis=0)\n",
    "sigma = X_train.std(axis=0)\n",
    "X_train = (X_train - mu)/sigma\n",
    "y_train = Y_train[TARGETS[0]]"
   ]
  },
  {
   "cell_type": "code",
   "execution_count": 5,
   "metadata": {},
   "outputs": [
    {
     "name": "stdout",
     "output_type": "stream",
     "text": [
      "Python 3.7.12\n"
     ]
    }
   ],
   "source": [
    "!python3 --version"
   ]
  },
  {
   "cell_type": "code",
   "execution_count": 49,
   "metadata": {},
   "outputs": [],
   "source": [
    "models =    {\n",
    "    'XGBRegressor':{\n",
    "            'learning_rate': np.arange(0.025,0.150,0.025),\n",
    "            'gamma':np.arange(0.05,0.45,0.05),\n",
    "            'max_depth':np.arange(2,14,2),\n",
    "            'min_child_weight':np.arange(1,8,1),\n",
    "            'n_estimators':np.arange(10,80,5),\n",
    "            'subsample':np.arange(0.60,0.95,0.05),\n",
    "            'colsample_bytree':np.arange(0.60,0.95,0.05),\n",
    "            'reg_alpha':[1e-5, 1e-2, 0.1, 0.5, 1, 5, 10], #alpha\n",
    "            'reg_lambda':[1e-5, 1e-2, 0.1, 0.5, 1, 5, 10],#lambda\n",
    "    },\n",
    "    'KNeighborsRegressor':{\n",
    "            'n_neighbors': np.arange(1,10,2),\n",
    "            'weights': ['uniform','distance'],\n",
    "            'p': [1,2],\n",
    "            'metric': ['minkowski'],\n",
    "    },\n",
    "    'RandomForestRegressor':{\n",
    "            'n_estimators':np.arange(10,80,5),\n",
    "            'criterion': ['squared_error','absolute_error','poisson'],\n",
    "            'max_features': ['auto','sqrt','log2']\n",
    "    },\n",
    "\n",
    "            }"
   ]
  },
  {
   "cell_type": "code",
   "execution_count": 50,
   "metadata": {},
   "outputs": [],
   "source": [
    "def set_model(name):\n",
    "    if name=='GradientBoostingRegressor':\n",
    "        model = GradientBoostingRegressor()\n",
    "    elif name=='KNeighborsRegressor':\n",
    "        model = KNeighborsRegressor()\n",
    "    elif name=='ExtraTreesRegressor':\n",
    "        model = ExtraTreesRegressor()\n",
    "    elif name=='RandomForestRegressor':\n",
    "        model = RandomForestRegressor()\n",
    "    elif name=='DecisionTreeRegressor':\n",
    "        model = DecisionTreeRegressor()\n",
    "    elif name=='XGBRegressor':\n",
    "        model = XGBRegressor()\n",
    "    return model"
   ]
  },
  {
   "cell_type": "code",
   "execution_count": 51,
   "metadata": {},
   "outputs": [],
   "source": [
    "for m_i in models:\n",
    "    model = set_model(m_i)\n",
    "    grid_model = GridSearchCV(estimator=model, param_grid = models[m_i], cv = 5, scoring='r2', n_jobs=-1)\n",
    "    grid_model.fit(X_train,y_train)\n",
    "    print(\" Results from Grid Search for:\",m_i )\n",
    "    print(\"\\n The best estimator across ALL searched params:\\n\",grid_model.best_estimator_)\n",
    "    print(\"\\n The best score across ALL searched params:\\n\",grid_model.best_score_)\n",
    "    print(\"\\n The best parameters across ALL searched params:\\n\",grid_model.best_params_)\n",
    "    "
   ]
  },
  {
   "cell_type": "code",
   "execution_count": null,
   "metadata": {},
   "outputs": [],
   "source": []
  }
 ],
 "metadata": {
  "interpreter": {
   "hash": "949777d72b0d2535278d3dc13498b2535136f6dfe0678499012e853ee9abcab1"
  },
  "kernelspec": {
   "display_name": "Python 3 (ipykernel)",
   "language": "python",
   "name": "python3"
  },
  "language_info": {
   "codemirror_mode": {
    "name": "ipython",
    "version": 3
   },
   "file_extension": ".py",
   "mimetype": "text/x-python",
   "name": "python",
   "nbconvert_exporter": "python",
   "pygments_lexer": "ipython3",
   "version": "3.7.0"
  },
  "orig_nbformat": 4
 },
 "nbformat": 4,
 "nbformat_minor": 2
}

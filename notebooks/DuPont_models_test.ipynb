{
  "cells": [
    {
      "cell_type": "code",
      "execution_count": 1,
      "metadata": {
        "id": "VKhY0dQAOQGE"
      },
      "outputs": [],
      "source": [
        "# Import libraries\n",
        "import numpy as np\n",
        "import pandas as pd\n",
        "import scipy\n",
        "# from sklearn.linear_model import ElasticNet, Ridge, Lasso, LinearRegression\n",
        "from sklearn.metrics import r2_score, mean_absolute_error, mean_squared_error\n",
        "from sklearn.neighbors import KNeighborsRegressor\n",
        "# from sklearn.ensemble import RandomForestRegressor\n",
        "from xgboost.sklearn import XGBRegressor\n",
        "from sklearn.gaussian_process import GaussianProcessRegressor\n",
        "from sklearn.gaussian_process.kernels import RBF, DotProduct, Matern, RationalQuadratic, WhiteKernel\n",
        "from sklearn.model_selection import GridSearchCV, KFold\n",
        "# from sklearn.preprocessing import StandardScaler\n",
        "import pickle"
      ]
    },
    {
      "cell_type": "code",
      "execution_count": 2,
      "metadata": {
        "id": "GTslTTMJRVFi"
      },
      "outputs": [],
      "source": [
        "# CHANGE FILENAME HERE\n",
        "test_dataset_file = \"sample_dataset.csv\"\n",
        "# SELECT OPTION: 'full' or 'partial'\n",
        "TRAINING_OPTION = 'partial' "
      ]
    },
    {
      "cell_type": "code",
      "execution_count": 3,
      "metadata": {
        "colab": {
          "base_uri": "https://localhost:8080/"
        },
        "id": "E1wupIUIQAqx",
        "outputId": "c582c87c-f379-4a36-e03c-5cc257b822a5"
      },
      "outputs": [
        {
          "name": "stdout",
          "output_type": "stream",
          "text": [
            "[00:30:01] WARNING: /workspace/src/objective/regression_obj.cu:152: reg:linear is now deprecated in favor of reg:squarederror.\n"
          ]
        }
      ],
      "source": [
        "# Read .csv file\n",
        "Dataset = pd.read_csv(test_dataset_file)\n",
        "# Constants\n",
        "TARGETS = ['Water_Absorption_%','Hardness','Thermal_Conductivity_(mW/m.K)']\n",
        "NR_FEATURES = ['Clarifier_1','Clarifier_2','Clarifier_3',\n",
        "                'Polymer_3','UV_absorber_1','UV_absorber_2',\n",
        "                'Filler_2','Filler_3']\n",
        "METRICS_NAME = ['r2', 'MAE', 'RMSE']\n",
        "METRICS = [r2_score, mean_absolute_error, mean_squared_error]\n",
        "# Load models and standardization parameters\n",
        "params_filename = 'standardizer_'+TRAINING_OPTION+'_dataset.dump'\n",
        "models_filename = TRAINING_OPTION+'_dataset_models.dump'\n",
        "mu, sigma = pickle.load(open(params_filename,\"rb\"))\n",
        "models = pickle.load(open(models_filename,\"rb\"))\n",
        "# PREPROCESSING\n",
        "# Select only features from dataset\n",
        "X_test = Dataset.drop(columns=['name']+TARGETS)\n",
        "# add entropy as a feature\n",
        "X_test['entropy']=scipy.stats.entropy(X_test, axis=1)\n",
        "# removing some features may help?\n",
        "if TRAINING_OPTION == 'partial':\n",
        "    X_test = X_test.drop(columns=NR_FEATURES)\n",
        "# Select only targets from dataset\n",
        "Y_test = Dataset[TARGETS]\n",
        "# Standardization\n",
        "X_test = (X_test - mu)/sigma\n",
        "# y_train = Y_train[TARGETS[0]]"
      ]
    },
    {
      "cell_type": "code",
      "execution_count": 19,
      "metadata": {
        "colab": {
          "base_uri": "https://localhost:8080/"
        },
        "id": "LTT8esQrR1bR",
        "outputId": "e1a793b0-8f3d-449b-d329-42576b67d77d"
      },
      "outputs": [
        {
          "name": "stdout",
          "output_type": "stream",
          "text": [
            "TARGET: Water_Absorption_%\n",
            "model: GaussianProcessRegressor\n",
            "r2 0.988767815639689\n",
            "MAE 0.043564602746678005\n",
            "RMSE 0.0027052364150465936\n",
            "TARGET: Hardness\n",
            "model: GaussianProcessRegressor\n",
            "r2 0.9986375263615909\n",
            "MAE 0.6614992086023443\n",
            "RMSE 0.7914840345120293\n",
            "TARGET: Thermal_Conductivity_(mW/m.K)\n",
            "model: XGBRegressor\n",
            "r2 0.7178920515576901\n",
            "MAE 5.54810733645758\n",
            "RMSE 44.86138626958788\n"
          ]
        }
      ],
      "source": [
        "# Predictions evaluation \n",
        "for k,target in enumerate(TARGETS):\n",
        "    y_test = Y_test[target]\n",
        "    y_predicted = models[k].predict(X_test)\n",
        "    print('TARGET:',target) \n",
        "    print('model:',str(models[k]).split('(')[0])\n",
        "    \n",
        "    acc = [print(name,metric(y_test, y_predicted)) for metric,name in zip(METRICS,METRICS_NAME)]"
      ]
    }
  ],
  "metadata": {
    "colab": {
      "name": "DuPont_models_test.ipynb",
      "provenance": []
    },
    "kernelspec": {
      "display_name": "DuPont",
      "language": "python",
      "name": "dupont"
    }
  },
  "nbformat": 4,
  "nbformat_minor": 0
}
